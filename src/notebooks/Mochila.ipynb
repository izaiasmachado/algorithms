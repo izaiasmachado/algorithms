{
  "nbformat": 4,
  "nbformat_minor": 0,
  "metadata": {
    "colab": {
      "name": "Knapsack.ipynb",
      "provenance": [],
      "authorship_tag": "ABX9TyN9LTPkyLRBewTiJX85envQ",
      "include_colab_link": true
    },
    "kernelspec": {
      "name": "python3",
      "display_name": "Python 3"
    }
  },
  "cells": [
    {
      "cell_type": "markdown",
      "metadata": {
        "id": "view-in-github",
        "colab_type": "text"
      },
      "source": [
        "<a href=\"https://colab.research.google.com/github/izaiasmachado/algoritmos/blob/main/Mochila.ipynb\" target=\"_parent\"><img src=\"https://colab.research.google.com/assets/colab-badge.svg\" alt=\"Open In Colab\"/></a>"
      ]
    },
    {
      "cell_type": "markdown",
      "metadata": {
        "id": "cQslkc_PrhKb"
      },
      "source": [
        "# Algoritmo da Mochila Comum"
      ]
    },
    {
      "cell_type": "code",
      "metadata": {
        "colab": {
          "base_uri": "https://localhost:8080/"
        },
        "id": "JWkrkhVglF4G",
        "outputId": "e3761cf5-a130-4f70-aae3-52f4681d0dcd"
      },
      "source": [
        "def kp (position, limit, weights, values):\n",
        "  if position == 0 or limit == 0:\n",
        "    return 0\n",
        "\n",
        "  if (weights[position] > limit):\n",
        "    return kp(position - 1, limit, weights, values)\n",
        "\n",
        "  else:\n",
        "    skipping = kp(position - 1, limit, weights, values)\n",
        "    picking = values[position] + kp(position - 1, limit - weights[position], weights, values)\n",
        "    return max(skipping, picking)\n",
        "\n",
        "w = [0, 9, 2, 4, 2, 5]\n",
        "v = [0, 1, 1, 1, 1, 1]\n",
        "kp(len(w) - 1, 10, w, v)\n"
      ],
      "execution_count": 35,
      "outputs": [
        {
          "output_type": "execute_result",
          "data": {
            "text/plain": [
              "3"
            ]
          },
          "metadata": {
            "tags": []
          },
          "execution_count": 35
        }
      ]
    },
    {
      "cell_type": "markdown",
      "metadata": {
        "id": "4hsQsl5mqu8J"
      },
      "source": [
        "# Algoritmo da Mochila com Programação Dinâmica\n",
        "- Usa uma tabela para reduzir o número de recursões"
      ]
    },
    {
      "cell_type": "code",
      "metadata": {
        "colab": {
          "base_uri": "https://localhost:8080/"
        },
        "id": "-O7sq3Tymduv",
        "outputId": "1c5bab5f-3169-4437-93a0-77c8eaf3136a"
      },
      "source": [
        "arr = [[False for x in range(1000)] for x in range(1000)] \n",
        "\n",
        "def kp (position, limit, weights, values):\n",
        "  if (arr[position][limit]):\n",
        "    return arr[position][limit]\n",
        "\n",
        "  if position == 0 or limit == 0:\n",
        "    return 0\n",
        "\n",
        "  if (weights[position] > limit):\n",
        "    return kp(position - 1, limit, weights, values)\n",
        "\n",
        "  else:\n",
        "    skipping = kp(position - 1, limit, weights, values)\n",
        "    picking = values[position] + kp(position - 1, limit - weights[position], weights, values)\n",
        "    result = max(skipping, picking)\n",
        "\n",
        "  arr[position][limit] = result\n",
        "  return result\n",
        "\n",
        "\n",
        "w = [10, 20, 30]\n",
        "v = [60, 100, 120]\n",
        "kp(len(w) - 1, 50, w, v)"
      ],
      "execution_count": 36,
      "outputs": [
        {
          "output_type": "execute_result",
          "data": {
            "text/plain": [
              "220"
            ]
          },
          "metadata": {
            "tags": []
          },
          "execution_count": 36
        }
      ]
    }
  ]
}