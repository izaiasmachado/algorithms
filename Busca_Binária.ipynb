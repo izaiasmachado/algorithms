{
  "nbformat": 4,
  "nbformat_minor": 0,
  "metadata": {
    "colab": {
      "name": "Busca Binária.ipynb",
      "provenance": [],
      "authorship_tag": "ABX9TyOljIfQ11yyXpyC2gjfAKLx",
      "include_colab_link": true
    },
    "kernelspec": {
      "name": "python3",
      "display_name": "Python 3"
    }
  },
  "cells": [
    {
      "cell_type": "markdown",
      "metadata": {
        "id": "view-in-github",
        "colab_type": "text"
      },
      "source": [
        "<a href=\"https://colab.research.google.com/github/izaiasmachado/algoritmos/blob/main/Busca_Bin%C3%A1ria.ipynb\" target=\"_parent\"><img src=\"https://colab.research.google.com/assets/colab-badge.svg\" alt=\"Open In Colab\"/></a>"
      ]
    },
    {
      "cell_type": "markdown",
      "metadata": {
        "id": "kkwrpoX_5_bZ"
      },
      "source": [
        "# Busca binária\n",
        "Para buscar números em uma grande lista ordenada"
      ]
    },
    {
      "cell_type": "code",
      "metadata": {
        "colab": {
          "base_uri": "https://localhost:8080/"
        },
        "id": "G5j3SPvM576q",
        "outputId": "0f4d3267-b21e-45e1-cca7-c7ffe969260b"
      },
      "source": [
        "import math\n",
        "A = [1, 2, 3, 4, 5, 6, 7, 8, 9, 10]\n",
        "\n",
        "def bbin(A, n, x):\n",
        "  p = 0\n",
        "  r = n + 1\n",
        "  while (p < r - 1):\n",
        "    q = math.ceil((p + r) / 2)\n",
        "\n",
        "    if (A[q] < x):\n",
        "      p = q\n",
        "    else: \n",
        "      r = q\n",
        "  return r\n",
        "\n",
        "p = bbin(A, len(A), 3)\n",
        "v = A[p]\n",
        "\n",
        "print(f'A[{p}] = {v}')"
      ],
      "execution_count": 5,
      "outputs": [
        {
          "output_type": "stream",
          "text": [
            "A[2] = 3\n"
          ],
          "name": "stdout"
        }
      ]
    },
    {
      "cell_type": "code",
      "metadata": {
        "colab": {
          "base_uri": "https://localhost:8080/"
        },
        "id": "1yCiKg4E7YAg",
        "outputId": "6757ae15-6a75-4a92-d478-967b973a4a4e"
      },
      "source": [
        "import math\n",
        "A = [1, 2, 3, 4, 5, 6, 7, 8, 9, 10]\n",
        "\n",
        "def bbinr(A, p, r, x):\n",
        "  if (p == (r - 1)):\n",
        "    return r\n",
        "  q = math.ceil((p + r) / 2)\n",
        "  if (A[q] < x):\n",
        "    return bbinr(A, q, r, x)\n",
        "  else:\n",
        "    return bbinr(A, p, q, x)\n",
        "\n",
        "p = bbinr(A, 0, len(A) + 1, 3)\n",
        "v = A[p]\n",
        "\n",
        "print(f'A[{p}] = {v}')\n"
      ],
      "execution_count": 7,
      "outputs": [
        {
          "output_type": "stream",
          "text": [
            "A[2] = 3\n"
          ],
          "name": "stdout"
        }
      ]
    }
  ]
}