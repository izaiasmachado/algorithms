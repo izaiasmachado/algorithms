{
  "nbformat": 4,
  "nbformat_minor": 0,
  "metadata": {
    "colab": {
      "name": "Determinante.ipynb",
      "provenance": [],
      "collapsed_sections": [],
      "authorship_tag": "ABX9TyOUAYI0lsVEBU7wR6qqtIV6",
      "include_colab_link": true
    },
    "kernelspec": {
      "name": "python3",
      "display_name": "Python 3"
    }
  },
  "cells": [
    {
      "cell_type": "markdown",
      "metadata": {
        "id": "view-in-github",
        "colab_type": "text"
      },
      "source": [
        "<a href=\"https://colab.research.google.com/github/izaiasmachado/algoritmos/blob/main/Determinante.ipynb\" target=\"_parent\"><img src=\"https://colab.research.google.com/assets/colab-badge.svg\" alt=\"Open In Colab\"/></a>"
      ]
    },
    {
      "cell_type": "markdown",
      "metadata": {
        "id": "eH8-Ffm28bwO"
      },
      "source": [
        "# Determinante\n",
        "Se n = 1, $det(a) = (A)_{i, j}$\n",
        "\n",
        "Senão, $$\\sum\\limits_{j = 1} ^ {n} (-1)^{(-1 + j)} (A)_{1, j} det(T_{1, j})$$\n"
      ]
    },
    {
      "cell_type": "code",
      "metadata": {
        "id": "0yUoQGmgsX-1"
      },
      "source": [
        "def t (matriz, linha, coluna):\n",
        "  submtx = []\n",
        "\n",
        "  for i in range(len(matriz)):\n",
        "    if i != linha:\n",
        "      line = []\n",
        "\n",
        "      for j in range(len(matriz[i])):\n",
        "        if j != coluna:\n",
        "          line.append(matriz[i][j])\n",
        "      \n",
        "      submtx.append(line)\n",
        "\n",
        "  return submtx"
      ],
      "execution_count": 129,
      "outputs": []
    },
    {
      "cell_type": "code",
      "metadata": {
        "id": "IUWmtRUGvKHb"
      },
      "source": [
        "def det (matriz):\n",
        "  if len(matriz) == 1:\n",
        "    return matriz[0][0]\n",
        "\n",
        "  sum = 0\n",
        "  for i in range(len(matriz[0])):\n",
        "    sum += pow(-1, i) * matriz[0][i] * det(t(matriz, 0, i))\n",
        "\n",
        "  return sum"
      ],
      "execution_count": 128,
      "outputs": []
    },
    {
      "cell_type": "code",
      "metadata": {
        "colab": {
          "base_uri": "https://localhost:8080/"
        },
        "id": "cB64mqiuy1Rp",
        "outputId": "edbec959-2432-4a1f-d03b-71263f95c3b6"
      },
      "source": [
        "a = [\n",
        "     [3, 2, 0, 4], \n",
        "     [1, 2, 0, 5],\n",
        "     [1, 3, 1, 6],\n",
        "     [7, 8, 9, 10]\n",
        "    ]\n",
        "print(f'> {det(a)}')"
      ],
      "execution_count": 138,
      "outputs": [
        {
          "output_type": "stream",
          "text": [
            "> 29\n"
          ],
          "name": "stdout"
        }
      ]
    }
  ]
}